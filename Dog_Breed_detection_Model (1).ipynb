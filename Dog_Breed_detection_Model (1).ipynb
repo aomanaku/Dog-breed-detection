{
  "nbformat": 4,
  "nbformat_minor": 0,
  "metadata": {
    "colab": {
      "provenance": []
    },
    "kernelspec": {
      "name": "python3",
      "display_name": "Python 3"
    },
    "language_info": {
      "name": "python"
    },
    "accelerator": "GPU",
    "gpuClass": "standard"
  },
  "cells": [
    {
      "cell_type": "code",
      "execution_count": 27,
      "metadata": {
        "colab": {
          "base_uri": "https://localhost:8080/",
          "height": 91
        },
        "id": "RenDw1GLAc5-",
        "outputId": "c888999b-31a5-4742-fc69-e4ebc3d27e2e"
      },
      "outputs": [
        {
          "output_type": "display_data",
          "data": {
            "text/plain": [
              "<IPython.core.display.HTML object>"
            ],
            "text/html": [
              "\n",
              "     <input type=\"file\" id=\"files-ce332e9a-a2cf-461d-9aa6-917d20ea7754\" name=\"files[]\" multiple disabled\n",
              "        style=\"border:none\" />\n",
              "     <output id=\"result-ce332e9a-a2cf-461d-9aa6-917d20ea7754\">\n",
              "      Upload widget is only available when the cell has been executed in the\n",
              "      current browser session. Please rerun this cell to enable.\n",
              "      </output>\n",
              "      <script>// Copyright 2017 Google LLC\n",
              "//\n",
              "// Licensed under the Apache License, Version 2.0 (the \"License\");\n",
              "// you may not use this file except in compliance with the License.\n",
              "// You may obtain a copy of the License at\n",
              "//\n",
              "//      http://www.apache.org/licenses/LICENSE-2.0\n",
              "//\n",
              "// Unless required by applicable law or agreed to in writing, software\n",
              "// distributed under the License is distributed on an \"AS IS\" BASIS,\n",
              "// WITHOUT WARRANTIES OR CONDITIONS OF ANY KIND, either express or implied.\n",
              "// See the License for the specific language governing permissions and\n",
              "// limitations under the License.\n",
              "\n",
              "/**\n",
              " * @fileoverview Helpers for google.colab Python module.\n",
              " */\n",
              "(function(scope) {\n",
              "function span(text, styleAttributes = {}) {\n",
              "  const element = document.createElement('span');\n",
              "  element.textContent = text;\n",
              "  for (const key of Object.keys(styleAttributes)) {\n",
              "    element.style[key] = styleAttributes[key];\n",
              "  }\n",
              "  return element;\n",
              "}\n",
              "\n",
              "// Max number of bytes which will be uploaded at a time.\n",
              "const MAX_PAYLOAD_SIZE = 100 * 1024;\n",
              "\n",
              "function _uploadFiles(inputId, outputId) {\n",
              "  const steps = uploadFilesStep(inputId, outputId);\n",
              "  const outputElement = document.getElementById(outputId);\n",
              "  // Cache steps on the outputElement to make it available for the next call\n",
              "  // to uploadFilesContinue from Python.\n",
              "  outputElement.steps = steps;\n",
              "\n",
              "  return _uploadFilesContinue(outputId);\n",
              "}\n",
              "\n",
              "// This is roughly an async generator (not supported in the browser yet),\n",
              "// where there are multiple asynchronous steps and the Python side is going\n",
              "// to poll for completion of each step.\n",
              "// This uses a Promise to block the python side on completion of each step,\n",
              "// then passes the result of the previous step as the input to the next step.\n",
              "function _uploadFilesContinue(outputId) {\n",
              "  const outputElement = document.getElementById(outputId);\n",
              "  const steps = outputElement.steps;\n",
              "\n",
              "  const next = steps.next(outputElement.lastPromiseValue);\n",
              "  return Promise.resolve(next.value.promise).then((value) => {\n",
              "    // Cache the last promise value to make it available to the next\n",
              "    // step of the generator.\n",
              "    outputElement.lastPromiseValue = value;\n",
              "    return next.value.response;\n",
              "  });\n",
              "}\n",
              "\n",
              "/**\n",
              " * Generator function which is called between each async step of the upload\n",
              " * process.\n",
              " * @param {string} inputId Element ID of the input file picker element.\n",
              " * @param {string} outputId Element ID of the output display.\n",
              " * @return {!Iterable<!Object>} Iterable of next steps.\n",
              " */\n",
              "function* uploadFilesStep(inputId, outputId) {\n",
              "  const inputElement = document.getElementById(inputId);\n",
              "  inputElement.disabled = false;\n",
              "\n",
              "  const outputElement = document.getElementById(outputId);\n",
              "  outputElement.innerHTML = '';\n",
              "\n",
              "  const pickedPromise = new Promise((resolve) => {\n",
              "    inputElement.addEventListener('change', (e) => {\n",
              "      resolve(e.target.files);\n",
              "    });\n",
              "  });\n",
              "\n",
              "  const cancel = document.createElement('button');\n",
              "  inputElement.parentElement.appendChild(cancel);\n",
              "  cancel.textContent = 'Cancel upload';\n",
              "  const cancelPromise = new Promise((resolve) => {\n",
              "    cancel.onclick = () => {\n",
              "      resolve(null);\n",
              "    };\n",
              "  });\n",
              "\n",
              "  // Wait for the user to pick the files.\n",
              "  const files = yield {\n",
              "    promise: Promise.race([pickedPromise, cancelPromise]),\n",
              "    response: {\n",
              "      action: 'starting',\n",
              "    }\n",
              "  };\n",
              "\n",
              "  cancel.remove();\n",
              "\n",
              "  // Disable the input element since further picks are not allowed.\n",
              "  inputElement.disabled = true;\n",
              "\n",
              "  if (!files) {\n",
              "    return {\n",
              "      response: {\n",
              "        action: 'complete',\n",
              "      }\n",
              "    };\n",
              "  }\n",
              "\n",
              "  for (const file of files) {\n",
              "    const li = document.createElement('li');\n",
              "    li.append(span(file.name, {fontWeight: 'bold'}));\n",
              "    li.append(span(\n",
              "        `(${file.type || 'n/a'}) - ${file.size} bytes, ` +\n",
              "        `last modified: ${\n",
              "            file.lastModifiedDate ? file.lastModifiedDate.toLocaleDateString() :\n",
              "                                    'n/a'} - `));\n",
              "    const percent = span('0% done');\n",
              "    li.appendChild(percent);\n",
              "\n",
              "    outputElement.appendChild(li);\n",
              "\n",
              "    const fileDataPromise = new Promise((resolve) => {\n",
              "      const reader = new FileReader();\n",
              "      reader.onload = (e) => {\n",
              "        resolve(e.target.result);\n",
              "      };\n",
              "      reader.readAsArrayBuffer(file);\n",
              "    });\n",
              "    // Wait for the data to be ready.\n",
              "    let fileData = yield {\n",
              "      promise: fileDataPromise,\n",
              "      response: {\n",
              "        action: 'continue',\n",
              "      }\n",
              "    };\n",
              "\n",
              "    // Use a chunked sending to avoid message size limits. See b/62115660.\n",
              "    let position = 0;\n",
              "    do {\n",
              "      const length = Math.min(fileData.byteLength - position, MAX_PAYLOAD_SIZE);\n",
              "      const chunk = new Uint8Array(fileData, position, length);\n",
              "      position += length;\n",
              "\n",
              "      const base64 = btoa(String.fromCharCode.apply(null, chunk));\n",
              "      yield {\n",
              "        response: {\n",
              "          action: 'append',\n",
              "          file: file.name,\n",
              "          data: base64,\n",
              "        },\n",
              "      };\n",
              "\n",
              "      let percentDone = fileData.byteLength === 0 ?\n",
              "          100 :\n",
              "          Math.round((position / fileData.byteLength) * 100);\n",
              "      percent.textContent = `${percentDone}% done`;\n",
              "\n",
              "    } while (position < fileData.byteLength);\n",
              "  }\n",
              "\n",
              "  // All done.\n",
              "  yield {\n",
              "    response: {\n",
              "      action: 'complete',\n",
              "    }\n",
              "  };\n",
              "}\n",
              "\n",
              "scope.google = scope.google || {};\n",
              "scope.google.colab = scope.google.colab || {};\n",
              "scope.google.colab._files = {\n",
              "  _uploadFiles,\n",
              "  _uploadFilesContinue,\n",
              "};\n",
              "})(self);\n",
              "</script> "
            ]
          },
          "metadata": {}
        },
        {
          "output_type": "stream",
          "name": "stdout",
          "text": [
            "Saving kaggle.json to kaggle (1).json\n"
          ]
        },
        {
          "output_type": "execute_result",
          "data": {
            "text/plain": [
              "{'kaggle.json': b'{\"username\":\"arjunomanakuttan\",\"key\":\"f083d968451f3d62bda3c4bf169a2bb4\"}'}"
            ]
          },
          "metadata": {},
          "execution_count": 27
        }
      ],
      "source": [
        "from google.colab import files \n",
        "files.upload()"
      ]
    },
    {
      "cell_type": "code",
      "source": [
        " !pip install -q kaggle"
      ],
      "metadata": {
        "id": "D6HbEYY9Aqey"
      },
      "execution_count": 29,
      "outputs": []
    },
    {
      "cell_type": "code",
      "source": [
        "!mkdir -p ~/.kaggle\n",
        "!cp kaggle.json ~/.kaggle/ \n",
        "\n",
        "!chmod 600 ~/.kaggle/kaggle.json"
      ],
      "metadata": {
        "id": "VVVzIca5CKFZ"
      },
      "execution_count": 30,
      "outputs": []
    },
    {
      "cell_type": "code",
      "source": [
        "!mkdir dog_dataset"
      ],
      "metadata": {
        "colab": {
          "base_uri": "https://localhost:8080/"
        },
        "id": "EJQyY91oClqp",
        "outputId": "22829532-6082-42e9-cfd1-befc00385ec2"
      },
      "execution_count": 31,
      "outputs": [
        {
          "output_type": "stream",
          "name": "stdout",
          "text": [
            "mkdir: cannot create directory ‘dog_dataset’: File exists\n"
          ]
        }
      ]
    },
    {
      "cell_type": "code",
      "source": [
        "%cd dog_dataset"
      ],
      "metadata": {
        "colab": {
          "base_uri": "https://localhost:8080/"
        },
        "id": "R9KFUuWJCtdy",
        "outputId": "2b8aca3c-9992-4153-f94b-667c2c36a749"
      },
      "execution_count": 32,
      "outputs": [
        {
          "output_type": "stream",
          "name": "stdout",
          "text": [
            "/content/dog_dataset\n"
          ]
        }
      ]
    },
    {
      "cell_type": "code",
      "source": [
        "!kaggle datasets list -s dogbreedidfromcomp"
      ],
      "metadata": {
        "colab": {
          "base_uri": "https://localhost:8080/"
        },
        "id": "vEa4DQkUCx1j",
        "outputId": "c943a705-0321-4e00-803b-0b72544b3fca"
      },
      "execution_count": 33,
      "outputs": [
        {
          "output_type": "stream",
          "name": "stdout",
          "text": [
            "ref                                title                    size  lastUpdated          downloadCount  voteCount  usabilityRating  \n",
            "---------------------------------  ----------------------  -----  -------------------  -------------  ---------  ---------------  \n",
            "catherinehorng/dogbreedidfromcomp  dog-breed-id-from-comp  691MB  2020-06-26 03:09:05           2597          6  0.1764706        \n"
          ]
        }
      ]
    },
    {
      "cell_type": "code",
      "source": [
        "!kaggle datasets download catherinehorng/dogbreedidfromcomp\n",
        "%cd .."
      ],
      "metadata": {
        "colab": {
          "base_uri": "https://localhost:8080/"
        },
        "id": "_tiOtdhqDA4B",
        "outputId": "947c0b15-b30b-407a-cc38-3ed36476110d"
      },
      "execution_count": 34,
      "outputs": [
        {
          "output_type": "stream",
          "name": "stdout",
          "text": [
            "Downloading dogbreedidfromcomp.zip to /content/dog_dataset\n",
            "100% 691M/691M [00:45<00:00, 16.5MB/s]\n",
            "100% 691M/691M [00:45<00:00, 15.9MB/s]\n",
            "/content\n"
          ]
        }
      ]
    },
    {
      "cell_type": "code",
      "source": [
        "!unzip dog_dataset/dogbreedidfromcomp.zip -d dog_dataset\n",
        "!rm dog_dataset/dogbreedidfromcomp.zip\n",
        "!rm dog_dataset/sample_submission.csv\n"
      ],
      "metadata": {
        "id": "FIQrrnB9Dczf"
      },
      "execution_count": null,
      "outputs": []
    },
    {
      "cell_type": "code",
      "source": [
        "# importing libraries \n",
        "\n",
        "import numpy as np\n",
        "import pandas as pd\n",
        "import matplotlib.pyplot as plt\n",
        "\n",
        "from tqdm import tqdm \n",
        "import keras.utils as image\n",
        "from sklearn.preprocessing import label_binarize\n",
        "from sklearn.model_selection import train_test_split\n",
        "from keras.models import Sequential\n",
        "from keras.layers import Dense, Dropout, Flatten, Conv2D, MaxPool2D\n",
        "from keras.optimizers import Adam"
      ],
      "metadata": {
        "id": "Rdef4_runHGZ"
      },
      "execution_count": 36,
      "outputs": []
    },
    {
      "cell_type": "code",
      "source": [
        "labels_all = pd.read_csv(\"dog_dataset/labels.csv\")\n",
        "print(labels_all.shape)\n",
        "labels_all.head()"
      ],
      "metadata": {
        "colab": {
          "base_uri": "https://localhost:8080/",
          "height": 223
        },
        "id": "YnlcnKLPnHSK",
        "outputId": "248a6386-6d38-4659-f9a6-60b6bdc9a316"
      },
      "execution_count": 37,
      "outputs": [
        {
          "output_type": "stream",
          "name": "stdout",
          "text": [
            "(10222, 2)\n"
          ]
        },
        {
          "output_type": "execute_result",
          "data": {
            "text/plain": [
              "                                 id             breed\n",
              "0  000bec180eb18c7604dcecc8fe0dba07       boston_bull\n",
              "1  001513dfcb2ffafc82cccf4d8bbaba97             dingo\n",
              "2  001cdf01b096e06d78e9e5112d419397          pekinese\n",
              "3  00214f311d5d2247d5dfe4fe24b2303d          bluetick\n",
              "4  0021f9ceb3235effd7fcde7f7538ed62  golden_retriever"
            ],
            "text/html": [
              "\n",
              "  <div id=\"df-ddd7edb0-7fba-491d-894f-1f1ae8ffc858\">\n",
              "    <div class=\"colab-df-container\">\n",
              "      <div>\n",
              "<style scoped>\n",
              "    .dataframe tbody tr th:only-of-type {\n",
              "        vertical-align: middle;\n",
              "    }\n",
              "\n",
              "    .dataframe tbody tr th {\n",
              "        vertical-align: top;\n",
              "    }\n",
              "\n",
              "    .dataframe thead th {\n",
              "        text-align: right;\n",
              "    }\n",
              "</style>\n",
              "<table border=\"1\" class=\"dataframe\">\n",
              "  <thead>\n",
              "    <tr style=\"text-align: right;\">\n",
              "      <th></th>\n",
              "      <th>id</th>\n",
              "      <th>breed</th>\n",
              "    </tr>\n",
              "  </thead>\n",
              "  <tbody>\n",
              "    <tr>\n",
              "      <th>0</th>\n",
              "      <td>000bec180eb18c7604dcecc8fe0dba07</td>\n",
              "      <td>boston_bull</td>\n",
              "    </tr>\n",
              "    <tr>\n",
              "      <th>1</th>\n",
              "      <td>001513dfcb2ffafc82cccf4d8bbaba97</td>\n",
              "      <td>dingo</td>\n",
              "    </tr>\n",
              "    <tr>\n",
              "      <th>2</th>\n",
              "      <td>001cdf01b096e06d78e9e5112d419397</td>\n",
              "      <td>pekinese</td>\n",
              "    </tr>\n",
              "    <tr>\n",
              "      <th>3</th>\n",
              "      <td>00214f311d5d2247d5dfe4fe24b2303d</td>\n",
              "      <td>bluetick</td>\n",
              "    </tr>\n",
              "    <tr>\n",
              "      <th>4</th>\n",
              "      <td>0021f9ceb3235effd7fcde7f7538ed62</td>\n",
              "      <td>golden_retriever</td>\n",
              "    </tr>\n",
              "  </tbody>\n",
              "</table>\n",
              "</div>\n",
              "      <button class=\"colab-df-convert\" onclick=\"convertToInteractive('df-ddd7edb0-7fba-491d-894f-1f1ae8ffc858')\"\n",
              "              title=\"Convert this dataframe to an interactive table.\"\n",
              "              style=\"display:none;\">\n",
              "        \n",
              "  <svg xmlns=\"http://www.w3.org/2000/svg\" height=\"24px\"viewBox=\"0 0 24 24\"\n",
              "       width=\"24px\">\n",
              "    <path d=\"M0 0h24v24H0V0z\" fill=\"none\"/>\n",
              "    <path d=\"M18.56 5.44l.94 2.06.94-2.06 2.06-.94-2.06-.94-.94-2.06-.94 2.06-2.06.94zm-11 1L8.5 8.5l.94-2.06 2.06-.94-2.06-.94L8.5 2.5l-.94 2.06-2.06.94zm10 10l.94 2.06.94-2.06 2.06-.94-2.06-.94-.94-2.06-.94 2.06-2.06.94z\"/><path d=\"M17.41 7.96l-1.37-1.37c-.4-.4-.92-.59-1.43-.59-.52 0-1.04.2-1.43.59L10.3 9.45l-7.72 7.72c-.78.78-.78 2.05 0 2.83L4 21.41c.39.39.9.59 1.41.59.51 0 1.02-.2 1.41-.59l7.78-7.78 2.81-2.81c.8-.78.8-2.07 0-2.86zM5.41 20L4 18.59l7.72-7.72 1.47 1.35L5.41 20z\"/>\n",
              "  </svg>\n",
              "      </button>\n",
              "      \n",
              "  <style>\n",
              "    .colab-df-container {\n",
              "      display:flex;\n",
              "      flex-wrap:wrap;\n",
              "      gap: 12px;\n",
              "    }\n",
              "\n",
              "    .colab-df-convert {\n",
              "      background-color: #E8F0FE;\n",
              "      border: none;\n",
              "      border-radius: 50%;\n",
              "      cursor: pointer;\n",
              "      display: none;\n",
              "      fill: #1967D2;\n",
              "      height: 32px;\n",
              "      padding: 0 0 0 0;\n",
              "      width: 32px;\n",
              "    }\n",
              "\n",
              "    .colab-df-convert:hover {\n",
              "      background-color: #E2EBFA;\n",
              "      box-shadow: 0px 1px 2px rgba(60, 64, 67, 0.3), 0px 1px 3px 1px rgba(60, 64, 67, 0.15);\n",
              "      fill: #174EA6;\n",
              "    }\n",
              "\n",
              "    [theme=dark] .colab-df-convert {\n",
              "      background-color: #3B4455;\n",
              "      fill: #D2E3FC;\n",
              "    }\n",
              "\n",
              "    [theme=dark] .colab-df-convert:hover {\n",
              "      background-color: #434B5C;\n",
              "      box-shadow: 0px 1px 3px 1px rgba(0, 0, 0, 0.15);\n",
              "      filter: drop-shadow(0px 1px 2px rgba(0, 0, 0, 0.3));\n",
              "      fill: #FFFFFF;\n",
              "    }\n",
              "  </style>\n",
              "\n",
              "      <script>\n",
              "        const buttonEl =\n",
              "          document.querySelector('#df-ddd7edb0-7fba-491d-894f-1f1ae8ffc858 button.colab-df-convert');\n",
              "        buttonEl.style.display =\n",
              "          google.colab.kernel.accessAllowed ? 'block' : 'none';\n",
              "\n",
              "        async function convertToInteractive(key) {\n",
              "          const element = document.querySelector('#df-ddd7edb0-7fba-491d-894f-1f1ae8ffc858');\n",
              "          const dataTable =\n",
              "            await google.colab.kernel.invokeFunction('convertToInteractive',\n",
              "                                                     [key], {});\n",
              "          if (!dataTable) return;\n",
              "\n",
              "          const docLinkHtml = 'Like what you see? Visit the ' +\n",
              "            '<a target=\"_blank\" href=https://colab.research.google.com/notebooks/data_table.ipynb>data table notebook</a>'\n",
              "            + ' to learn more about interactive tables.';\n",
              "          element.innerHTML = '';\n",
              "          dataTable['output_type'] = 'display_data';\n",
              "          await google.colab.output.renderOutput(dataTable, element);\n",
              "          const docLink = document.createElement('div');\n",
              "          docLink.innerHTML = docLinkHtml;\n",
              "          element.appendChild(docLink);\n",
              "        }\n",
              "      </script>\n",
              "    </div>\n",
              "  </div>\n",
              "  "
            ]
          },
          "metadata": {},
          "execution_count": 37
        }
      ]
    },
    {
      "cell_type": "code",
      "source": [
        "breeds_all = labels_all[\"breed\"]\n",
        "breed_counts = breeds_all.value_counts()\n",
        "breed_counts.head()"
      ],
      "metadata": {
        "colab": {
          "base_uri": "https://localhost:8080/"
        },
        "id": "h5pEJ7GmnHaw",
        "outputId": "8d2df2fa-65ab-4eed-9bd7-79c624658e23"
      },
      "execution_count": 38,
      "outputs": [
        {
          "output_type": "execute_result",
          "data": {
            "text/plain": [
              "scottish_deerhound      126\n",
              "maltese_dog             117\n",
              "afghan_hound            116\n",
              "entlebucher             115\n",
              "bernese_mountain_dog    114\n",
              "Name: breed, dtype: int64"
            ]
          },
          "metadata": {},
          "execution_count": 38
        }
      ]
    },
    {
      "cell_type": "code",
      "source": [
        "CLASS_NAMES = ['scottish_deerhound', 'maltese_dog','bernese_mountain_dog']\n",
        "labels = labels_all[(labels_all['breed'].isin(CLASS_NAMES))]\n",
        "labels = labels.reset_index()\n",
        "labels.head()"
      ],
      "metadata": {
        "colab": {
          "base_uri": "https://localhost:8080/",
          "height": 206
        },
        "id": "xP9AJ7f2nHic",
        "outputId": "dcb701d5-bec3-4776-e40c-1a12cefc6e07"
      },
      "execution_count": 39,
      "outputs": [
        {
          "output_type": "execute_result",
          "data": {
            "text/plain": [
              "   index                                id                 breed\n",
              "0      9  0042188c895a2f14ef64a918ed9c7b64    scottish_deerhound\n",
              "1     12  00693b8bc2470375cc744a6391d397ec           maltese_dog\n",
              "2     79  01e787576c003930f96c966f9c3e1d44    scottish_deerhound\n",
              "3     90  022b34fd8734b39995a9f38a4f3e7b6b           maltese_dog\n",
              "4    118  02d54f0dfb40038765e838459ae8c956  bernese_mountain_dog"
            ],
            "text/html": [
              "\n",
              "  <div id=\"df-8cd9b6b0-bedd-4d75-87c0-ebf95d1fff59\">\n",
              "    <div class=\"colab-df-container\">\n",
              "      <div>\n",
              "<style scoped>\n",
              "    .dataframe tbody tr th:only-of-type {\n",
              "        vertical-align: middle;\n",
              "    }\n",
              "\n",
              "    .dataframe tbody tr th {\n",
              "        vertical-align: top;\n",
              "    }\n",
              "\n",
              "    .dataframe thead th {\n",
              "        text-align: right;\n",
              "    }\n",
              "</style>\n",
              "<table border=\"1\" class=\"dataframe\">\n",
              "  <thead>\n",
              "    <tr style=\"text-align: right;\">\n",
              "      <th></th>\n",
              "      <th>index</th>\n",
              "      <th>id</th>\n",
              "      <th>breed</th>\n",
              "    </tr>\n",
              "  </thead>\n",
              "  <tbody>\n",
              "    <tr>\n",
              "      <th>0</th>\n",
              "      <td>9</td>\n",
              "      <td>0042188c895a2f14ef64a918ed9c7b64</td>\n",
              "      <td>scottish_deerhound</td>\n",
              "    </tr>\n",
              "    <tr>\n",
              "      <th>1</th>\n",
              "      <td>12</td>\n",
              "      <td>00693b8bc2470375cc744a6391d397ec</td>\n",
              "      <td>maltese_dog</td>\n",
              "    </tr>\n",
              "    <tr>\n",
              "      <th>2</th>\n",
              "      <td>79</td>\n",
              "      <td>01e787576c003930f96c966f9c3e1d44</td>\n",
              "      <td>scottish_deerhound</td>\n",
              "    </tr>\n",
              "    <tr>\n",
              "      <th>3</th>\n",
              "      <td>90</td>\n",
              "      <td>022b34fd8734b39995a9f38a4f3e7b6b</td>\n",
              "      <td>maltese_dog</td>\n",
              "    </tr>\n",
              "    <tr>\n",
              "      <th>4</th>\n",
              "      <td>118</td>\n",
              "      <td>02d54f0dfb40038765e838459ae8c956</td>\n",
              "      <td>bernese_mountain_dog</td>\n",
              "    </tr>\n",
              "  </tbody>\n",
              "</table>\n",
              "</div>\n",
              "      <button class=\"colab-df-convert\" onclick=\"convertToInteractive('df-8cd9b6b0-bedd-4d75-87c0-ebf95d1fff59')\"\n",
              "              title=\"Convert this dataframe to an interactive table.\"\n",
              "              style=\"display:none;\">\n",
              "        \n",
              "  <svg xmlns=\"http://www.w3.org/2000/svg\" height=\"24px\"viewBox=\"0 0 24 24\"\n",
              "       width=\"24px\">\n",
              "    <path d=\"M0 0h24v24H0V0z\" fill=\"none\"/>\n",
              "    <path d=\"M18.56 5.44l.94 2.06.94-2.06 2.06-.94-2.06-.94-.94-2.06-.94 2.06-2.06.94zm-11 1L8.5 8.5l.94-2.06 2.06-.94-2.06-.94L8.5 2.5l-.94 2.06-2.06.94zm10 10l.94 2.06.94-2.06 2.06-.94-2.06-.94-.94-2.06-.94 2.06-2.06.94z\"/><path d=\"M17.41 7.96l-1.37-1.37c-.4-.4-.92-.59-1.43-.59-.52 0-1.04.2-1.43.59L10.3 9.45l-7.72 7.72c-.78.78-.78 2.05 0 2.83L4 21.41c.39.39.9.59 1.41.59.51 0 1.02-.2 1.41-.59l7.78-7.78 2.81-2.81c.8-.78.8-2.07 0-2.86zM5.41 20L4 18.59l7.72-7.72 1.47 1.35L5.41 20z\"/>\n",
              "  </svg>\n",
              "      </button>\n",
              "      \n",
              "  <style>\n",
              "    .colab-df-container {\n",
              "      display:flex;\n",
              "      flex-wrap:wrap;\n",
              "      gap: 12px;\n",
              "    }\n",
              "\n",
              "    .colab-df-convert {\n",
              "      background-color: #E8F0FE;\n",
              "      border: none;\n",
              "      border-radius: 50%;\n",
              "      cursor: pointer;\n",
              "      display: none;\n",
              "      fill: #1967D2;\n",
              "      height: 32px;\n",
              "      padding: 0 0 0 0;\n",
              "      width: 32px;\n",
              "    }\n",
              "\n",
              "    .colab-df-convert:hover {\n",
              "      background-color: #E2EBFA;\n",
              "      box-shadow: 0px 1px 2px rgba(60, 64, 67, 0.3), 0px 1px 3px 1px rgba(60, 64, 67, 0.15);\n",
              "      fill: #174EA6;\n",
              "    }\n",
              "\n",
              "    [theme=dark] .colab-df-convert {\n",
              "      background-color: #3B4455;\n",
              "      fill: #D2E3FC;\n",
              "    }\n",
              "\n",
              "    [theme=dark] .colab-df-convert:hover {\n",
              "      background-color: #434B5C;\n",
              "      box-shadow: 0px 1px 3px 1px rgba(0, 0, 0, 0.15);\n",
              "      filter: drop-shadow(0px 1px 2px rgba(0, 0, 0, 0.3));\n",
              "      fill: #FFFFFF;\n",
              "    }\n",
              "  </style>\n",
              "\n",
              "      <script>\n",
              "        const buttonEl =\n",
              "          document.querySelector('#df-8cd9b6b0-bedd-4d75-87c0-ebf95d1fff59 button.colab-df-convert');\n",
              "        buttonEl.style.display =\n",
              "          google.colab.kernel.accessAllowed ? 'block' : 'none';\n",
              "\n",
              "        async function convertToInteractive(key) {\n",
              "          const element = document.querySelector('#df-8cd9b6b0-bedd-4d75-87c0-ebf95d1fff59');\n",
              "          const dataTable =\n",
              "            await google.colab.kernel.invokeFunction('convertToInteractive',\n",
              "                                                     [key], {});\n",
              "          if (!dataTable) return;\n",
              "\n",
              "          const docLinkHtml = 'Like what you see? Visit the ' +\n",
              "            '<a target=\"_blank\" href=https://colab.research.google.com/notebooks/data_table.ipynb>data table notebook</a>'\n",
              "            + ' to learn more about interactive tables.';\n",
              "          element.innerHTML = '';\n",
              "          dataTable['output_type'] = 'display_data';\n",
              "          await google.colab.output.renderOutput(dataTable, element);\n",
              "          const docLink = document.createElement('div');\n",
              "          docLink.innerHTML = docLinkHtml;\n",
              "          element.appendChild(docLink);\n",
              "        }\n",
              "      </script>\n",
              "    </div>\n",
              "  </div>\n",
              "  "
            ]
          },
          "metadata": {},
          "execution_count": 39
        }
      ]
    },
    {
      "cell_type": "code",
      "source": [
        "# Creating numpy matrix with zeros\n",
        "X_data = np.zeros((len(labels), 224, 224, 3), dtype='float32')\n",
        "# One hot encoding\n",
        "Y_data = label_binarize(labels['breed'], classes = CLASS_NAMES)\n",
        "\n",
        "# Reading and converting image to numpy array and normalizing dataset \n",
        "for i in tqdm(range(len(labels))):\n",
        "    img = image.load_img('dog_dataset/train/%s.jpg' % labels['id'][i], target_size=(224, 224))  \n",
        "    img = image.img_to_array(img)\n",
        "    x = np.expand_dims(img.copy(), axis=0)\n",
        "    X_data[i] = x / 255.0\n",
        "    \n",
        "# Printing train image and one hot encode shape & size\n",
        "print('\\nTrain Images shape: ',X_data.shape,' size: {:,}'.format(X_data.size))\n",
        "print('One-hot encoded output shape: ',Y_data.shape,' size: {:,}'.format(Y_data.size))"
      ],
      "metadata": {
        "colab": {
          "base_uri": "https://localhost:8080/"
        },
        "id": "xTYI9VWInIkK",
        "outputId": "9f0b88a6-ec0b-4db6-c34d-2c37f29e618c"
      },
      "execution_count": 40,
      "outputs": [
        {
          "output_type": "stream",
          "name": "stderr",
          "text": [
            "100%|██████████| 357/357 [00:01<00:00, 277.35it/s]"
          ]
        },
        {
          "output_type": "stream",
          "name": "stdout",
          "text": [
            "\n",
            "Train Images shape:  (357, 224, 224, 3)  size: 53,738,496\n",
            "One-hot encoded output shape:  (357, 3)  size: 1,071\n"
          ]
        },
        {
          "output_type": "stream",
          "name": "stderr",
          "text": [
            "\n"
          ]
        }
      ]
    },
    {
      "cell_type": "code",
      "source": [
        "#Building the model"
      ],
      "metadata": {
        "id": "MxmanMPNtRFE"
      },
      "execution_count": 41,
      "outputs": []
    },
    {
      "cell_type": "code",
      "source": [
        "# Building the Model\n",
        "model = Sequential()\n",
        "\n",
        "model.add(Conv2D(filters = 64, kernel_size = (5,5), activation ='relu', input_shape = (224,224,3)))\n",
        "model.add(MaxPool2D(pool_size=(2,2)))\n",
        "\n",
        "model.add(Conv2D(filters = 32, kernel_size = (3,3), activation ='relu', kernel_regularizer = 'l2'))\n",
        "model.add(MaxPool2D(pool_size=(2,2)))\n",
        "\n",
        "model.add(Conv2D(filters = 16, kernel_size = (7,7), activation ='relu', kernel_regularizer = 'l2'))\n",
        "model.add(MaxPool2D(pool_size=(2,2)))\n",
        "\n",
        "model.add(Conv2D(filters = 8, kernel_size = (5,5), activation ='relu', kernel_regularizer = 'l2'))\n",
        "model.add(MaxPool2D(pool_size=(2,2)))\n",
        "\n",
        "model.add(Flatten())\n",
        "model.add(Dense(128, activation = \"relu\", kernel_regularizer = 'l2'))\n",
        "model.add(Dense(64, activation = \"relu\", kernel_regularizer = 'l2'))\n",
        "model.add(Dense(len(CLASS_NAMES), activation = \"softmax\"))\n",
        "\n",
        "model.compile(loss = 'categorical_crossentropy', optimizer = Adam(0.0001),metrics=['accuracy'])\n",
        "\n",
        "model.summary()"
      ],
      "metadata": {
        "colab": {
          "base_uri": "https://localhost:8080/"
        },
        "id": "TCsLzU2enJN1",
        "outputId": "c3b5c7dd-7458-4204-a7dd-cc738ffd4b80"
      },
      "execution_count": 42,
      "outputs": [
        {
          "output_type": "stream",
          "name": "stdout",
          "text": [
            "Model: \"sequential_1\"\n",
            "_________________________________________________________________\n",
            " Layer (type)                Output Shape              Param #   \n",
            "=================================================================\n",
            " conv2d_4 (Conv2D)           (None, 220, 220, 64)      4864      \n",
            "                                                                 \n",
            " max_pooling2d_4 (MaxPooling  (None, 110, 110, 64)     0         \n",
            " 2D)                                                             \n",
            "                                                                 \n",
            " conv2d_5 (Conv2D)           (None, 108, 108, 32)      18464     \n",
            "                                                                 \n",
            " max_pooling2d_5 (MaxPooling  (None, 54, 54, 32)       0         \n",
            " 2D)                                                             \n",
            "                                                                 \n",
            " conv2d_6 (Conv2D)           (None, 48, 48, 16)        25104     \n",
            "                                                                 \n",
            " max_pooling2d_6 (MaxPooling  (None, 24, 24, 16)       0         \n",
            " 2D)                                                             \n",
            "                                                                 \n",
            " conv2d_7 (Conv2D)           (None, 20, 20, 8)         3208      \n",
            "                                                                 \n",
            " max_pooling2d_7 (MaxPooling  (None, 10, 10, 8)        0         \n",
            " 2D)                                                             \n",
            "                                                                 \n",
            " flatten_1 (Flatten)         (None, 800)               0         \n",
            "                                                                 \n",
            " dense_3 (Dense)             (None, 128)               102528    \n",
            "                                                                 \n",
            " dense_4 (Dense)             (None, 64)                8256      \n",
            "                                                                 \n",
            " dense_5 (Dense)             (None, 3)                 195       \n",
            "                                                                 \n",
            "=================================================================\n",
            "Total params: 162,619\n",
            "Trainable params: 162,619\n",
            "Non-trainable params: 0\n",
            "_________________________________________________________________\n"
          ]
        }
      ]
    },
    {
      "cell_type": "code",
      "source": [
        "# Splitting the data set into training and testing data sets\n",
        "X_train_and_val, X_test, Y_train_and_val, Y_test = train_test_split(X_data, Y_data, test_size = 0.1)\n",
        "# Splitting the training data set into training and validation data sets\n",
        "X_train, X_val, Y_train, Y_val = train_test_split(X_train_and_val, Y_train_and_val, test_size = 0.2)"
      ],
      "metadata": {
        "id": "DjRaVlHIA6YP"
      },
      "execution_count": 43,
      "outputs": []
    },
    {
      "cell_type": "code",
      "source": [
        "# Training the model\n",
        "epochs = 100\n",
        "batch_size = 128\n",
        "\n",
        "history = model.fit(X_train, Y_train, batch_size = batch_size, epochs = epochs, \n",
        "                    validation_data = (X_val, Y_val))"
      ],
      "metadata": {
        "colab": {
          "base_uri": "https://localhost:8080/"
        },
        "id": "QHBe68LgBFQo",
        "outputId": "fddc92cf-7f25-4d3d-bd84-44c056badb3b"
      },
      "execution_count": 44,
      "outputs": [
        {
          "output_type": "stream",
          "name": "stdout",
          "text": [
            "Epoch 1/100\n",
            "2/2 [==============================] - 2s 590ms/step - loss: 4.9219 - accuracy: 0.3555 - val_loss: 4.9021 - val_accuracy: 0.2615\n",
            "Epoch 2/100\n",
            "2/2 [==============================] - 1s 461ms/step - loss: 4.8940 - accuracy: 0.3828 - val_loss: 4.8800 - val_accuracy: 0.2615\n",
            "Epoch 3/100\n",
            "2/2 [==============================] - 1s 406ms/step - loss: 4.8675 - accuracy: 0.3867 - val_loss: 4.8578 - val_accuracy: 0.2769\n",
            "Epoch 4/100\n",
            "2/2 [==============================] - 1s 409ms/step - loss: 4.8413 - accuracy: 0.4062 - val_loss: 4.8345 - val_accuracy: 0.2769\n",
            "Epoch 5/100\n",
            "2/2 [==============================] - 1s 403ms/step - loss: 4.8156 - accuracy: 0.4023 - val_loss: 4.8126 - val_accuracy: 0.2462\n",
            "Epoch 6/100\n",
            "2/2 [==============================] - 1s 399ms/step - loss: 4.7901 - accuracy: 0.3945 - val_loss: 4.7915 - val_accuracy: 0.2462\n",
            "Epoch 7/100\n",
            "2/2 [==============================] - 1s 400ms/step - loss: 4.7636 - accuracy: 0.3906 - val_loss: 4.7696 - val_accuracy: 0.2462\n",
            "Epoch 8/100\n",
            "2/2 [==============================] - 1s 401ms/step - loss: 4.7372 - accuracy: 0.3984 - val_loss: 4.7476 - val_accuracy: 0.2462\n",
            "Epoch 9/100\n",
            "2/2 [==============================] - 1s 457ms/step - loss: 4.7102 - accuracy: 0.3984 - val_loss: 4.7240 - val_accuracy: 0.2462\n",
            "Epoch 10/100\n",
            "2/2 [==============================] - 1s 396ms/step - loss: 4.6840 - accuracy: 0.4023 - val_loss: 4.6965 - val_accuracy: 0.2615\n",
            "Epoch 11/100\n",
            "2/2 [==============================] - 1s 402ms/step - loss: 4.6562 - accuracy: 0.4062 - val_loss: 4.6715 - val_accuracy: 0.2615\n",
            "Epoch 12/100\n",
            "2/2 [==============================] - 1s 407ms/step - loss: 4.6290 - accuracy: 0.4141 - val_loss: 4.6430 - val_accuracy: 0.2769\n",
            "Epoch 13/100\n",
            "2/2 [==============================] - 1s 396ms/step - loss: 4.6004 - accuracy: 0.4297 - val_loss: 4.6124 - val_accuracy: 0.2923\n",
            "Epoch 14/100\n",
            "2/2 [==============================] - 1s 400ms/step - loss: 4.5711 - accuracy: 0.4648 - val_loss: 4.5812 - val_accuracy: 0.3385\n",
            "Epoch 15/100\n",
            "2/2 [==============================] - 1s 400ms/step - loss: 4.5406 - accuracy: 0.4844 - val_loss: 4.5450 - val_accuracy: 0.4154\n",
            "Epoch 16/100\n",
            "2/2 [==============================] - 1s 395ms/step - loss: 4.5069 - accuracy: 0.5508 - val_loss: 4.5095 - val_accuracy: 0.4769\n",
            "Epoch 17/100\n",
            "2/2 [==============================] - 1s 403ms/step - loss: 4.4717 - accuracy: 0.5820 - val_loss: 4.4739 - val_accuracy: 0.4923\n",
            "Epoch 18/100\n",
            "2/2 [==============================] - 1s 401ms/step - loss: 4.4364 - accuracy: 0.5977 - val_loss: 4.4272 - val_accuracy: 0.5538\n",
            "Epoch 19/100\n",
            "2/2 [==============================] - 1s 394ms/step - loss: 4.3956 - accuracy: 0.6211 - val_loss: 4.3818 - val_accuracy: 0.6154\n",
            "Epoch 20/100\n",
            "2/2 [==============================] - 1s 410ms/step - loss: 4.3554 - accuracy: 0.6172 - val_loss: 4.3353 - val_accuracy: 0.6308\n",
            "Epoch 21/100\n",
            "2/2 [==============================] - 1s 466ms/step - loss: 4.3145 - accuracy: 0.6367 - val_loss: 4.2838 - val_accuracy: 0.6308\n",
            "Epoch 22/100\n",
            "2/2 [==============================] - 1s 401ms/step - loss: 4.2732 - accuracy: 0.6602 - val_loss: 4.2442 - val_accuracy: 0.6308\n",
            "Epoch 23/100\n",
            "2/2 [==============================] - 1s 403ms/step - loss: 4.2337 - accuracy: 0.6641 - val_loss: 4.2037 - val_accuracy: 0.6308\n",
            "Epoch 24/100\n",
            "2/2 [==============================] - 1s 402ms/step - loss: 4.1942 - accuracy: 0.6445 - val_loss: 4.1537 - val_accuracy: 0.6154\n",
            "Epoch 25/100\n",
            "2/2 [==============================] - 1s 404ms/step - loss: 4.1569 - accuracy: 0.6562 - val_loss: 4.1041 - val_accuracy: 0.6308\n",
            "Epoch 26/100\n",
            "2/2 [==============================] - 1s 407ms/step - loss: 4.1223 - accuracy: 0.6484 - val_loss: 4.1105 - val_accuracy: 0.6769\n",
            "Epoch 27/100\n",
            "2/2 [==============================] - 1s 404ms/step - loss: 4.0875 - accuracy: 0.6875 - val_loss: 4.0586 - val_accuracy: 0.6308\n",
            "Epoch 28/100\n",
            "2/2 [==============================] - 1s 396ms/step - loss: 4.0512 - accuracy: 0.6602 - val_loss: 4.0234 - val_accuracy: 0.6462\n",
            "Epoch 29/100\n",
            "2/2 [==============================] - 1s 404ms/step - loss: 4.0171 - accuracy: 0.6914 - val_loss: 3.9943 - val_accuracy: 0.6615\n",
            "Epoch 30/100\n",
            "2/2 [==============================] - 1s 400ms/step - loss: 3.9828 - accuracy: 0.6953 - val_loss: 3.9600 - val_accuracy: 0.6615\n",
            "Epoch 31/100\n",
            "2/2 [==============================] - 1s 404ms/step - loss: 3.9546 - accuracy: 0.6953 - val_loss: 3.9643 - val_accuracy: 0.6769\n",
            "Epoch 32/100\n",
            "2/2 [==============================] - 1s 405ms/step - loss: 3.9179 - accuracy: 0.7383 - val_loss: 3.9015 - val_accuracy: 0.6923\n",
            "Epoch 33/100\n",
            "2/2 [==============================] - 1s 399ms/step - loss: 3.9025 - accuracy: 0.7070 - val_loss: 3.8640 - val_accuracy: 0.7385\n",
            "Epoch 34/100\n",
            "2/2 [==============================] - 1s 396ms/step - loss: 3.8553 - accuracy: 0.7383 - val_loss: 3.9195 - val_accuracy: 0.6769\n",
            "Epoch 35/100\n",
            "2/2 [==============================] - 1s 407ms/step - loss: 3.8324 - accuracy: 0.7695 - val_loss: 3.8482 - val_accuracy: 0.7077\n",
            "Epoch 36/100\n",
            "2/2 [==============================] - 1s 401ms/step - loss: 3.8150 - accuracy: 0.7461 - val_loss: 3.7997 - val_accuracy: 0.7538\n",
            "Epoch 37/100\n",
            "2/2 [==============================] - 1s 392ms/step - loss: 3.7718 - accuracy: 0.7578 - val_loss: 3.8297 - val_accuracy: 0.7385\n",
            "Epoch 38/100\n",
            "2/2 [==============================] - 1s 403ms/step - loss: 3.7417 - accuracy: 0.7930 - val_loss: 3.8038 - val_accuracy: 0.6923\n",
            "Epoch 39/100\n",
            "2/2 [==============================] - 1s 400ms/step - loss: 3.7245 - accuracy: 0.7852 - val_loss: 3.7948 - val_accuracy: 0.7077\n",
            "Epoch 40/100\n",
            "2/2 [==============================] - 1s 401ms/step - loss: 3.6938 - accuracy: 0.8086 - val_loss: 3.7305 - val_accuracy: 0.7692\n",
            "Epoch 41/100\n",
            "2/2 [==============================] - 1s 409ms/step - loss: 3.6640 - accuracy: 0.7969 - val_loss: 3.7230 - val_accuracy: 0.7538\n",
            "Epoch 42/100\n",
            "2/2 [==============================] - 1s 403ms/step - loss: 3.6275 - accuracy: 0.8320 - val_loss: 3.7410 - val_accuracy: 0.6923\n",
            "Epoch 43/100\n",
            "2/2 [==============================] - 1s 396ms/step - loss: 3.6094 - accuracy: 0.8281 - val_loss: 3.7046 - val_accuracy: 0.7385\n",
            "Epoch 44/100\n",
            "2/2 [==============================] - 1s 400ms/step - loss: 3.5860 - accuracy: 0.8438 - val_loss: 3.6664 - val_accuracy: 0.7692\n",
            "Epoch 45/100\n",
            "2/2 [==============================] - 1s 396ms/step - loss: 3.5560 - accuracy: 0.8359 - val_loss: 3.6818 - val_accuracy: 0.6615\n",
            "Epoch 46/100\n",
            "2/2 [==============================] - 1s 395ms/step - loss: 3.5326 - accuracy: 0.8438 - val_loss: 3.6757 - val_accuracy: 0.6615\n",
            "Epoch 47/100\n",
            "2/2 [==============================] - 1s 466ms/step - loss: 3.5084 - accuracy: 0.8477 - val_loss: 3.6407 - val_accuracy: 0.7538\n",
            "Epoch 48/100\n",
            "2/2 [==============================] - 1s 394ms/step - loss: 3.4881 - accuracy: 0.8672 - val_loss: 3.6368 - val_accuracy: 0.7385\n",
            "Epoch 49/100\n",
            "2/2 [==============================] - 1s 395ms/step - loss: 3.4634 - accuracy: 0.8672 - val_loss: 3.6198 - val_accuracy: 0.7077\n",
            "Epoch 50/100\n",
            "2/2 [==============================] - 1s 406ms/step - loss: 3.4408 - accuracy: 0.8672 - val_loss: 3.6016 - val_accuracy: 0.7385\n",
            "Epoch 51/100\n",
            "2/2 [==============================] - 1s 392ms/step - loss: 3.4254 - accuracy: 0.8789 - val_loss: 3.6106 - val_accuracy: 0.7385\n",
            "Epoch 52/100\n",
            "2/2 [==============================] - 1s 395ms/step - loss: 3.3961 - accuracy: 0.8906 - val_loss: 3.5833 - val_accuracy: 0.7538\n",
            "Epoch 53/100\n",
            "2/2 [==============================] - 1s 401ms/step - loss: 3.3932 - accuracy: 0.8945 - val_loss: 3.5632 - val_accuracy: 0.7231\n",
            "Epoch 54/100\n",
            "2/2 [==============================] - 1s 402ms/step - loss: 3.3880 - accuracy: 0.8477 - val_loss: 3.5941 - val_accuracy: 0.6923\n",
            "Epoch 55/100\n",
            "2/2 [==============================] - 1s 396ms/step - loss: 3.3510 - accuracy: 0.8711 - val_loss: 3.5625 - val_accuracy: 0.7692\n",
            "Epoch 56/100\n",
            "2/2 [==============================] - 1s 400ms/step - loss: 3.3425 - accuracy: 0.8906 - val_loss: 3.5347 - val_accuracy: 0.7077\n",
            "Epoch 57/100\n",
            "2/2 [==============================] - 1s 394ms/step - loss: 3.3156 - accuracy: 0.8906 - val_loss: 3.6033 - val_accuracy: 0.6923\n",
            "Epoch 58/100\n",
            "2/2 [==============================] - 1s 391ms/step - loss: 3.2876 - accuracy: 0.8984 - val_loss: 3.5011 - val_accuracy: 0.7538\n",
            "Epoch 59/100\n",
            "2/2 [==============================] - 1s 401ms/step - loss: 3.2876 - accuracy: 0.8867 - val_loss: 3.5406 - val_accuracy: 0.7385\n",
            "Epoch 60/100\n",
            "2/2 [==============================] - 1s 387ms/step - loss: 3.2759 - accuracy: 0.8945 - val_loss: 3.5342 - val_accuracy: 0.7385\n",
            "Epoch 61/100\n",
            "2/2 [==============================] - 1s 394ms/step - loss: 3.2416 - accuracy: 0.9023 - val_loss: 3.4864 - val_accuracy: 0.7231\n",
            "Epoch 62/100\n",
            "2/2 [==============================] - 1s 411ms/step - loss: 3.2245 - accuracy: 0.9141 - val_loss: 3.5482 - val_accuracy: 0.7538\n",
            "Epoch 63/100\n",
            "2/2 [==============================] - 1s 400ms/step - loss: 3.2190 - accuracy: 0.9102 - val_loss: 3.4737 - val_accuracy: 0.7692\n",
            "Epoch 64/100\n",
            "2/2 [==============================] - 1s 394ms/step - loss: 3.1901 - accuracy: 0.9297 - val_loss: 3.4902 - val_accuracy: 0.7231\n",
            "Epoch 65/100\n",
            "2/2 [==============================] - 1s 466ms/step - loss: 3.1689 - accuracy: 0.9336 - val_loss: 3.4903 - val_accuracy: 0.7692\n",
            "Epoch 66/100\n",
            "2/2 [==============================] - 1s 402ms/step - loss: 3.1546 - accuracy: 0.9297 - val_loss: 3.4367 - val_accuracy: 0.7692\n",
            "Epoch 67/100\n",
            "2/2 [==============================] - 1s 393ms/step - loss: 3.1400 - accuracy: 0.9258 - val_loss: 3.4664 - val_accuracy: 0.7231\n",
            "Epoch 68/100\n",
            "2/2 [==============================] - 1s 406ms/step - loss: 3.1320 - accuracy: 0.9141 - val_loss: 3.4617 - val_accuracy: 0.7385\n",
            "Epoch 69/100\n",
            "2/2 [==============================] - 1s 395ms/step - loss: 3.1041 - accuracy: 0.9375 - val_loss: 3.4150 - val_accuracy: 0.7846\n",
            "Epoch 70/100\n",
            "2/2 [==============================] - 1s 395ms/step - loss: 3.1020 - accuracy: 0.9336 - val_loss: 3.4499 - val_accuracy: 0.7385\n",
            "Epoch 71/100\n",
            "2/2 [==============================] - 1s 461ms/step - loss: 3.0901 - accuracy: 0.9180 - val_loss: 3.4524 - val_accuracy: 0.6923\n",
            "Epoch 72/100\n",
            "2/2 [==============================] - 1s 397ms/step - loss: 3.0668 - accuracy: 0.9375 - val_loss: 3.3868 - val_accuracy: 0.7692\n",
            "Epoch 73/100\n",
            "2/2 [==============================] - 1s 390ms/step - loss: 3.0655 - accuracy: 0.9375 - val_loss: 3.4243 - val_accuracy: 0.7385\n",
            "Epoch 74/100\n",
            "2/2 [==============================] - 1s 411ms/step - loss: 3.0400 - accuracy: 0.9336 - val_loss: 3.4674 - val_accuracy: 0.6923\n",
            "Epoch 75/100\n",
            "2/2 [==============================] - 1s 409ms/step - loss: 3.0333 - accuracy: 0.9336 - val_loss: 3.3829 - val_accuracy: 0.7846\n",
            "Epoch 76/100\n",
            "2/2 [==============================] - 1s 396ms/step - loss: 3.0126 - accuracy: 0.9414 - val_loss: 3.4066 - val_accuracy: 0.7538\n",
            "Epoch 77/100\n",
            "2/2 [==============================] - 1s 405ms/step - loss: 2.9941 - accuracy: 0.9492 - val_loss: 3.4111 - val_accuracy: 0.6923\n",
            "Epoch 78/100\n",
            "2/2 [==============================] - 1s 400ms/step - loss: 2.9805 - accuracy: 0.9531 - val_loss: 3.3781 - val_accuracy: 0.7846\n",
            "Epoch 79/100\n",
            "2/2 [==============================] - 1s 394ms/step - loss: 2.9642 - accuracy: 0.9453 - val_loss: 3.3558 - val_accuracy: 0.7846\n",
            "Epoch 80/100\n",
            "2/2 [==============================] - 1s 467ms/step - loss: 2.9480 - accuracy: 0.9609 - val_loss: 3.3872 - val_accuracy: 0.7231\n",
            "Epoch 81/100\n",
            "2/2 [==============================] - 1s 400ms/step - loss: 2.9605 - accuracy: 0.9336 - val_loss: 3.3519 - val_accuracy: 0.7385\n",
            "Epoch 82/100\n",
            "2/2 [==============================] - 1s 396ms/step - loss: 2.9412 - accuracy: 0.9531 - val_loss: 3.3489 - val_accuracy: 0.7846\n",
            "Epoch 83/100\n",
            "2/2 [==============================] - 1s 396ms/step - loss: 2.9212 - accuracy: 0.9531 - val_loss: 3.4079 - val_accuracy: 0.7538\n",
            "Epoch 84/100\n",
            "2/2 [==============================] - 1s 463ms/step - loss: 2.9066 - accuracy: 0.9492 - val_loss: 3.3279 - val_accuracy: 0.7385\n",
            "Epoch 85/100\n",
            "2/2 [==============================] - 1s 398ms/step - loss: 2.8931 - accuracy: 0.9727 - val_loss: 3.3675 - val_accuracy: 0.7692\n",
            "Epoch 86/100\n",
            "2/2 [==============================] - 1s 395ms/step - loss: 2.8784 - accuracy: 0.9609 - val_loss: 3.3262 - val_accuracy: 0.7846\n",
            "Epoch 87/100\n",
            "2/2 [==============================] - 1s 402ms/step - loss: 2.8613 - accuracy: 0.9727 - val_loss: 3.3463 - val_accuracy: 0.7231\n",
            "Epoch 88/100\n",
            "2/2 [==============================] - 1s 400ms/step - loss: 2.8484 - accuracy: 0.9688 - val_loss: 3.3248 - val_accuracy: 0.7846\n",
            "Epoch 89/100\n",
            "2/2 [==============================] - 1s 394ms/step - loss: 2.8386 - accuracy: 0.9688 - val_loss: 3.3014 - val_accuracy: 0.7846\n",
            "Epoch 90/100\n",
            "2/2 [==============================] - 1s 399ms/step - loss: 2.8243 - accuracy: 0.9727 - val_loss: 3.3055 - val_accuracy: 0.7846\n",
            "Epoch 91/100\n",
            "2/2 [==============================] - 1s 399ms/step - loss: 2.8156 - accuracy: 0.9727 - val_loss: 3.3232 - val_accuracy: 0.7846\n",
            "Epoch 92/100\n",
            "2/2 [==============================] - 1s 458ms/step - loss: 2.8097 - accuracy: 0.9727 - val_loss: 3.2940 - val_accuracy: 0.8000\n",
            "Epoch 93/100\n",
            "2/2 [==============================] - 1s 398ms/step - loss: 2.7880 - accuracy: 0.9727 - val_loss: 3.3290 - val_accuracy: 0.7846\n",
            "Epoch 94/100\n",
            "2/2 [==============================] - 1s 392ms/step - loss: 2.7808 - accuracy: 0.9766 - val_loss: 3.2748 - val_accuracy: 0.8000\n",
            "Epoch 95/100\n",
            "2/2 [==============================] - 1s 400ms/step - loss: 2.7716 - accuracy: 0.9727 - val_loss: 3.2825 - val_accuracy: 0.8000\n",
            "Epoch 96/100\n",
            "2/2 [==============================] - 1s 398ms/step - loss: 2.7605 - accuracy: 0.9727 - val_loss: 3.2933 - val_accuracy: 0.8000\n",
            "Epoch 97/100\n",
            "2/2 [==============================] - 1s 395ms/step - loss: 2.7469 - accuracy: 0.9766 - val_loss: 3.2895 - val_accuracy: 0.7846\n",
            "Epoch 98/100\n",
            "2/2 [==============================] - 1s 404ms/step - loss: 2.7324 - accuracy: 0.9766 - val_loss: 3.2539 - val_accuracy: 0.8000\n",
            "Epoch 99/100\n",
            "2/2 [==============================] - 1s 463ms/step - loss: 2.7284 - accuracy: 0.9727 - val_loss: 3.2892 - val_accuracy: 0.8000\n",
            "Epoch 100/100\n",
            "2/2 [==============================] - 1s 388ms/step - loss: 2.7136 - accuracy: 0.9844 - val_loss: 3.2800 - val_accuracy: 0.7846\n"
          ]
        }
      ]
    },
    {
      "cell_type": "code",
      "source": [
        "# Plot the training history\n",
        "plt.figure(figsize=(12, 5))\n",
        "plt.plot(history.history['accuracy'], color='r')\n",
        "plt.plot(history.history['val_accuracy'], color='b')\n",
        "plt.title('Model Accuracy')\n",
        "plt.ylabel('Accuracy')\n",
        "plt.xlabel('Epochs')\n",
        "plt.legend(['train', 'val'])\n",
        "\n",
        "plt.show()"
      ],
      "metadata": {
        "colab": {
          "base_uri": "https://localhost:8080/",
          "height": 350
        },
        "id": "4GMheMUiBFTz",
        "outputId": "f434a638-c5a1-4772-f137-3f80c83cbd5d"
      },
      "execution_count": 45,
      "outputs": [
        {
          "output_type": "display_data",
          "data": {
            "text/plain": [
              "<Figure size 864x360 with 1 Axes>"
            ],
            "image/png": "[encoded data removed]"
          },
          "metadata": {
            "needs_background": "light"
          }
        }
      ]
    },
    {
      "cell_type": "code",
      "source": [
        "Y_pred = model.predict(X_test)\n",
        "score = model.evaluate(X_test, Y_test)\n",
        "print('Accuracy over the test set: \\n ', round((score[1]*100), 2), '%')"
      ],
      "metadata": {
        "colab": {
          "base_uri": "https://localhost:8080/"
        },
        "id": "_yofmiMBBFWf",
        "outputId": "bd14fcb2-71b3-4072-a17a-d0481419fe44"
      },
      "execution_count": 46,
      "outputs": [
        {
          "output_type": "stream",
          "name": "stdout",
          "text": [
            "2/2 [==============================] - 0s 29ms/step\n",
            "2/2 [==============================] - 0s 10ms/step - loss: 3.2031 - accuracy: 0.7500\n",
            "Accuracy over the test set: \n",
            "  75.0 %\n"
          ]
        }
      ]
    },
    {
      "cell_type": "code",
      "source": [
        "# Plotting image to compare\n",
        "plt.imshow(X_test[1,:,:,:])\n",
        "plt.show()\n",
        "\n",
        "# Finding max value from predition list and comaparing original value vs predicted\n",
        "print(\"Originally : \",labels['breed'][np.argmax(Y_test[1])])\n",
        "print(\"Predicted : \",labels['breed'][np.argmax(Y_pred[1])])"
      ],
      "metadata": {
        "colab": {
          "base_uri": "https://localhost:8080/",
          "height": 304
        },
        "id": "m92TktEABFZ0",
        "outputId": "0b5abb34-afa8-4457-f364-02f68268438b"
      },
      "execution_count": 47,
      "outputs": [
        {
          "output_type": "display_data",
          "data": {
            "text/plain": [
              "<Figure size 432x288 with 1 Axes>"
            ],
            "image/png": "[encoded data removed]"
          },
          "metadata": {
            "needs_background": "light"
          }
        },
        {
          "output_type": "stream",
          "name": "stdout",
          "text": [
            "Originally :  maltese_dog\n",
            "Predicted :  maltese_dog\n"
          ]
        }
      ]
    },
    {
      "cell_type": "code",
      "source": [],
      "metadata": {
        "id": "HJufPnOVBFc7"
      },
      "execution_count": 47,
      "outputs": []
    }
  ]
}